{
 "cells": [
  {
   "cell_type": "markdown",
   "metadata": {
    "id": "WXEwMsfUct7U"
   },
   "source": [
    "안녕하세요.<br><br>\n",
    "수강생 여러분~! \n",
    "\n",
    "\"Challenge : 사칙연산을 이용해 문제 풀기\"는 잘 풀어보셨나요?\n",
    "\n",
    "\n",
    "너~~무 어려웠어요! 하는 분들을 위해 만들어봤습니다!\n",
    "\n",
    "문제 도장깨기 !!!!!\n",
    "\n",
    "차근차근 풀어나가면 파이썬 정복 가능입니다!\n",
    "\n",
    "화이팅 !\n",
    "\n",
    "\n",
    "Chapter04의 수업 내용을 바탕으로 아래 문제를 풀어주시면 됩니다.\n",
    "\n",
    "<br>\n",
    "\n",
    "[**답변 입력 방법**]\n",
    "\n",
    "문제 아래에 있는 코드 입력창에 정답코드를 작성하신 후  __▷ 버튼을 클릭해 코드를 실행__ 해보세요<br>\n",
    "<br>"
   ]
  },
  {
   "cell_type": "markdown",
   "metadata": {
    "id": "qoyC9wF-3hvs"
   },
   "source": [
    "-----"
   ]
  },
  {
   "cell_type": "markdown",
   "metadata": {},
   "source": [
    "<br>\n",
    "\n",
    "__[문제1]__\n",
    "\n",
    "한 주머니에 사탕이 5개씩 들어있습니다. \n",
    "\n",
    "바리바리스타인 나에게는 3개의 주머니가 있습니다! \n",
    "\n",
    "근데 길가다가 사탕을 주웠습니다. 그래서 사탕 3개가 주머니에 더 추가되었습니다. \n",
    "\n",
    "최종적으로 주머니에 들어있는 사탕의 총 개수는 얼마인가요?\n",
    "\n",
    "<br>"
   ]
  },
  {
   "cell_type": "code",
   "execution_count": 1,
   "metadata": {},
   "outputs": [
    {
     "name": "stdout",
     "output_type": "stream",
     "text": [
      "18\n"
     ]
    }
   ],
   "source": [
    "# 각 주머니에 들어있는 사탕 개수\n",
    "candy_per_bag = 5\n",
    "\n",
    "# 주머니 개수\n",
    "num_bags = 3\n",
    "\n",
    "# 추가로 주운 사탕 개수\n",
    "found_candies = 3\n",
    "\n",
    "# 주머니에 있는 총 사탕 개수 계산\n",
    "total_candies_in_bags = candy_per_bag * num_bags\n",
    "\n",
    "# 최종 총 사탕 개수 계산\n",
    "final_total_candies = total_candies_in_bags + found_candies\n",
    "\n",
    "# 결과 출력\n",
    "print(final_total_candies)"
   ]
  },
  {
   "cell_type": "markdown",
   "metadata": {},
   "source": [
    "<br>\n",
    "\n",
    "__[문제2]__\n",
    "\n",
    "10명이 각자 4개의 공을 가지고 있습니다. \n",
    "\n",
    "운이 좋은 3명이 2개의 공을 더 받았습니다. \n",
    "\n",
    "10명이 가진 모든 공의 총 개수를 구하세요.\n"
   ]
  },
  {
   "cell_type": "code",
   "execution_count": 6,
   "metadata": {},
   "outputs": [
    {
     "name": "stdout",
     "output_type": "stream",
     "text": [
      "46\n"
     ]
    }
   ],
   "source": [
    "# 총 사람 수\n",
    "num_people = 10\n",
    "\n",
    "# 처음 각 사람이 가진 공의 개수\n",
    "initial_balls_per_person = 4\n",
    "\n",
    "# 추가로 공을 받은 사람 수\n",
    "lucky_people = 3\n",
    "\n",
    "# 추가로 받은 공의 개수\n",
    "additional_balls = 2\n",
    "\n",
    "# 처음 모든 사람이 가진 공의 총 개수 계산\n",
    "total_initial_balls = num_people * initial_balls_per_person\n",
    "\n",
    "# 추가로 받은 공의 총 개수 계산\n",
    "total_additional_balls = lucky_people * additional_balls\n",
    "\n",
    "# 최종 총 공의 개수 계산\n",
    "final_total_balls = total_initial_balls + total_additional_balls\n",
    "\n",
    "# 결과 출력\n",
    "print(final_total_balls)"
   ]
  },
  {
   "cell_type": "markdown",
   "metadata": {},
   "source": [
    "<br>\n",
    "\n",
    "__[문제3]__\n",
    "\n",
    "5명의 학생이 3시간씩 공부했습니다. \n",
    "\n",
    "이상한 강박관념이 있는 나는 모든 시간을 분으로 계산하고 싶습니다.\n",
    "\n",
    "대신 계산해주세요 ! \n"
   ]
  },
  {
   "cell_type": "code",
   "execution_count": 7,
   "metadata": {
    "id": "74wtVQFFc_h1"
   },
   "outputs": [
    {
     "name": "stdout",
     "output_type": "stream",
     "text": [
      "900\n"
     ]
    }
   ],
   "source": [
    "# 학생 수\n",
    "num_students = 5\n",
    "# 각 학생이 공부한 시간 (시간)\n",
    "hours_per_student = 3\n",
    "# 1시간은 60분\n",
    "minutes_per_hour = 60\n",
    "\n",
    "# 총 공부 시간 (분) 계산\n",
    "total_minutes = num_students * hours_per_student * minutes_per_hour\n",
    "\n",
    "# 결과 출력\n",
    "print(total_minutes)"
   ]
  },
  {
   "cell_type": "markdown",
   "metadata": {},
   "source": [
    "<br>\n",
    "\n",
    "__[문제4]__\n",
    "\n",
    "차가 9리터의 연료를 가지고 있습니다. \n",
    "\n",
    "연료가 3일 동안 계속 줄어들며, 하루에 2리터씩 소비됩니다. \n",
    "\n",
    "3일 뒤 차에 남은 연료는 몇 리터인가요?"
   ]
  },
  {
   "cell_type": "code",
   "execution_count": 8,
   "metadata": {
    "id": "9kvBxa6PdhgA"
   },
   "outputs": [
    {
     "name": "stdout",
     "output_type": "stream",
     "text": [
      "3\n"
     ]
    }
   ],
   "source": [
    "# 초기 연료량 (리터)\n",
    "initial_fuel = 9\n",
    "# 하루 소비 연료량 (리터)\n",
    "daily_consumption = 2\n",
    "# 연료 소비 기간 (일)\n",
    "consumption_days = 3\n",
    "\n",
    "# 총 소비 연료량 계산\n",
    "total_consumption = daily_consumption * consumption_days\n",
    "\n",
    "# 남은 연료량 계산\n",
    "remaining_fuel = initial_fuel - total_consumption\n",
    "\n",
    "# 결과 출력\n",
    "print(remaining_fuel)"
   ]
  },
  {
   "cell_type": "markdown",
   "metadata": {
    "id": "2Jte2VLKdiPm"
   },
   "source": [
    "__[문제5]__\n",
    "\n",
    "어떤 정사각형의 넓이가 144cm²입니다. \n",
    "\n",
    "정사각형의 한 변의 길이를 구하세요.\n"
   ]
  },
  {
   "cell_type": "code",
   "execution_count": 11,
   "metadata": {},
   "outputs": [
    {
     "name": "stdout",
     "output_type": "stream",
     "text": [
      "12.0\n"
     ]
    }
   ],
   "source": [
    "\n",
    "# 정사각형의 넓이 (cm²)\n",
    "area = 144\n",
    "\n",
    "# 정사각형의 한 변의 길이 계산 (넓이의 제곱근)\n",
    "side_length = area ** 0.5\n",
    "\n",
    "# 결과 출력\n",
    "print(side_length)"
   ]
  }
 ],
 "metadata": {
  "colab": {
   "authorship_tag": "ABX9TyM3gebHvdgzn1rFsPHWTyo9",
   "provenance": []
  },
  "kernelspec": {
   "display_name": ".venv",
   "language": "python",
   "name": "python3"
  },
  "language_info": {
   "codemirror_mode": {
    "name": "ipython",
    "version": 3
   },
   "file_extension": ".py",
   "mimetype": "text/x-python",
   "name": "python",
   "nbconvert_exporter": "python",
   "pygments_lexer": "ipython3",
   "version": "3.12.3"
  }
 },
 "nbformat": 4,
 "nbformat_minor": 0
}
