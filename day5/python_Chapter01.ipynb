{
 "cells": [
  {
   "cell_type": "markdown",
   "metadata": {},
   "source": [
    "<span style=\"font-size:100%\">\n",
    "\n",
    "수업은 모두 열심히 들으셨나요?\n",
    "\n",
    "간혹 강의에서 언급되지 않은 내용이 문제로 나올 수 있습니다.<br>\n",
    "그럴땐 강의 내용 외 문제는 구글링을 통해 해결해주세요<br></span>\n",
    "<span style=\"font-size:80%\">\n",
    "(구글링 또한 개발자가 갖쳐야할 역량 중에 하나랍니다 😊)\n",
    "</span>\n",
    "\n",
    "---"
   ]
  },
  {
   "cell_type": "markdown",
   "metadata": {},
   "source": [
    "<span style=\"font-size:80%\">[문제1]<br><br></span>\n",
    "```인터프리트 방식에 대해 설명하고 2개 이상의 장점을 설명해주세요```"
   ]
  },
  {
   "cell_type": "markdown",
   "metadata": {},
   "source": [
    "<span style=\"color:red\">답변</span>"
   ]
  },
  {
   "cell_type": "markdown",
   "metadata": {},
   "source": [
    "디버깅이 용이하고, 플랫폼에 구애받지 않는다."
   ]
  },
  {
   "cell_type": "markdown",
   "metadata": {},
   "source": [
    "---"
   ]
  },
  {
   "cell_type": "markdown",
   "metadata": {},
   "source": [
    "<span style=\"font-size:80%\">[문제2]<br><br></span>\n",
    "```동적 타입 방식의 장점과 단점을 간략히 설명해주세요```"
   ]
  },
  {
   "cell_type": "markdown",
   "metadata": {},
   "source": [
    "<span style=\"color:red\">답변</span>"
   ]
  },
  {
   "cell_type": "markdown",
   "metadata": {},
   "source": [
    "장점으로는 유연성과 개발속도 향상이 있으며, 단점으로는 런타임 오류 발생 가능성과 성능 문제를 일으킬 가능성이 있다."
   ]
  },
  {
   "cell_type": "markdown",
   "metadata": {},
   "source": [
    "---"
   ]
  },
  {
   "cell_type": "markdown",
   "metadata": {},
   "source": [
    "<span style=\"font-size:80%\">[문제3]<br><br></span>\n",
    "```Python으로 정적타입 방식의 코드를 작성할 수 있는 방법을 구글링을 통해 검색 후 설명해주세요```"
   ]
  },
  {
   "cell_type": "markdown",
   "metadata": {},
   "source": [
    "<span style=\"color:red\">답변</span>"
   ]
  },
  {
   "cell_type": "markdown",
   "metadata": {},
   "source": [
    "파이썬은 본래 동적 타입 언어이지만, 정적 타입 스타일로 코드를 작성할 수 있는 방법들이 있다고 한다. 대표적으로는 타입힌트(Type Hinting)와 정적 타입 검사기(MyPy, Pyright 등)을 활용하는 방식이 있다."
   ]
  },
  {
   "cell_type": "markdown",
   "metadata": {},
   "source": [
    "---"
   ]
  },
  {
   "cell_type": "markdown",
   "metadata": {},
   "source": [
    "<span style=\"font-size:80%\">[문제4]<br><br></span>\n",
    "```프로세스와 스레드의 차이점을 설명해주세요```"
   ]
  },
  {
   "cell_type": "markdown",
   "metadata": {},
   "source": [
    "<span style=\"color:red\">답변</span>"
   ]
  },
  {
   "cell_type": "markdown",
   "metadata": {},
   "source": [
    "첫번째, 독립성: 프로세스는 서로 완전히 독립적입니다. 각각 따로 메모리를 가지고 있어, 하나의 프로세스가 문제가 생겨도 다른 프로세스에는 영향을 주지 않습니다.\n",
    "반면에, 스레드는 같은 프로세스 안에서 실행되기 때문에 서로 연결되어 있고 독립적이지 않습니다.\n",
    "\n",
    "두번째, 자원 공유: 프로세스는 메모리나 자원(데이터 등)을 서로 공유하지 않습니다. 데이터를 주고받으려면 특별한 방식(예: 파이프, 소켓 등)이 필요합니다.\n",
    "하지만 스레드는 같은 프로세스 안의 자원을 공유합니다. 그래서 데이터를 쉽게 주고받을 수 있지만, 충돌이 일어날 위험도 있습니다.\n",
    "\n",
    "세번째, 생성 및 종료 비용: 프로세스는 만들거나 없애는 데 시간과 자원이 많이 듭니다.\n",
    "스레드는 상대적으로 빠르고 가볍게 생성되고 종료됩니다.\n",
    "\n",
    "네번째, 오류의 영향 범위: 프로세스는 하나가 오류로 종료되어도 다른 프로세스에 영향을 주지 않습니다.\n",
    "하지만 스레드는 같은 자원을 공유하기 때문에, 하나의 스레드에서 오류가 나면 전체 프로세스가 영향을 받을 수 있습니다."
   ]
  },
  {
   "cell_type": "markdown",
   "metadata": {},
   "source": [
    "---"
   ]
  },
  {
   "cell_type": "markdown",
   "metadata": {},
   "source": [
    "<span style=\"font-size:80%\">[문제5]<br><br></span>\n",
    "```Python 2버전대와 3버전대의 차이를 성명해주세요```"
   ]
  },
  {
   "cell_type": "markdown",
   "metadata": {},
   "source": [
    "<span style=\"color:red\">답변</span>"
   ]
  },
  {
   "cell_type": "markdown",
   "metadata": {},
   "source": [
    "Python 2는 Legacy, Python 3는 Future\n",
    "Python 2는 2020년에 공식 지원 종료됨.\n",
    "새로 파이썬을 배우는 사람은 Python 3를 배우는 것이 좋음.\n",
    "라이브러리 호환성 문제\n",
    "Python 3 전용 라이브러리가 많아지고 있음.\n",
    "Python 2에서 3으로의 코드 마이그레이션은 간단하지 않음.\n",
    "Unicode 처리 방식 차이\n",
    "Python 3는 문자열을 기본적으로 Unicode로 처리.\n",
    "Python 2는 ASCII가 기본이며 u''로 Unicode 명시 필요.\n",
    "정수 나눗셈 결과\n",
    "Python 2: 정수 나눗셈 시 소수점 버림 (5 / 2 = 2)\n",
    "Python 3: 부동소수점 결과 반환 (5 / 2 = 2.5)\n",
    "print 문법\n",
    "Python 2: print \"hello\"\n",
    "Python 3: print(\"hello\")\n",
    "xrange vs range\n",
    "Python 2: xrange()와 range() 둘 다 존재.\n",
    "Python 3: range()만 존재, 더 효율적임.\n",
    "에러 처리 문법\n",
    "Python 2: except Error, e:\n",
    "Python 3: except Error as e:\n",
    "__future__ 모듈\n",
    "Python 2에서도 Python 3 스타일의 문법 사용 가능 (예: division, print_function)"
   ]
  },
  {
   "cell_type": "markdown",
   "metadata": {},
   "source": [
    "<span style=\"font-size:80%\">[문제6]<br><br></span>\n",
    "```Python에서 메모리 관리는 어떻게 이루어지는지 설명해주세요```"
   ]
  },
  {
   "cell_type": "markdown",
   "metadata": {},
   "source": [
    "<span style=\"color:red\">답변</span>"
   ]
  },
  {
   "cell_type": "markdown",
   "metadata": {},
   "source": [
    "Python의 메모리 관리\n",
    "Python은 자동 메모리 관리(Automatic Memory Management) 방식을 채택하고 있으며, 이는 다음 세 가지 주요 메커니즘에 의해 이루어진다:\n",
    "\n",
    "1. 참조 카운팅 (Reference Counting)\n",
    "Python의 객체는 생성될 때 내부적으로 참조 횟수(Reference Count) 를 유지한다. 이 값은 해당 객체를 참조하는 변수나 객체의 수를 나타낸다.\n",
    "* 객체를 새로 할당하거나 참조를 추가하면 카운트가 증가하고,\n",
    "* 참조가 제거되면 카운트가 감소한다.\n",
    "* 참조 카운트가 0이 되면 해당 객체는 즉시 메모리에서 해제된다.\n",
    "이 방식은 단순하고 빠르지만, 순환 참조(Circular Reference) 문제를 해결할 수 없다.\n",
    "\n",
    "2. 가비지 컬렉션 (Garbage Collection, GC)\n",
    "Python은 순환 참조 문제를 해결하기 위해 추가적인 가비지 컬렉터(GC) 를 제공한다.\n",
    "* Python의 GC는 주기적으로 실행되며,\n",
    "* 객체 그래프에서 순환 참조(cycle) 를 탐지하고,\n",
    "* 더 이상 접근되지 않는 객체를 식별하여 해제한다.\n",
    "Python의 GC는 gc 모듈로 제어할 수 있으며, 세대별(Generation)로 객체를 나누어 관리하는 세대 기반 가비지 컬렉션(generational GC) 을 사용한다.\n",
    "\n",
    "3. 메모리 할당과 메모리 풀 (Memory Pool)\n",
    "Python은 자체 메모리 할당 시스템인 pymalloc 을 사용하여 메모리를 효율적으로 관리한다.\n",
    "* 작은 객체(약 512바이트 이하)에 대해 자주 사용되는 메모리 블록을 풀(Pool) 로 관리한다.\n",
    "* 이를 통해 시스템 호출을 최소화하고 성능을 향상시킨다.\n",
    "* C언어의 malloc/free 호출을 줄여 속도를 높이는 방식이다.\n",
    "\n",
    "4. 스코프와 객체의 수명주기\n",
    "객체는 특정 스코프(Scope) 내에서 생성되고, 해당 스코프가 종료되면 자동으로 파괴된다.\n",
    "* 예: 함수 내 지역 변수는 함수가 끝나면 제거됨\n",
    "* 객체의 수명은 해당 객체를 참조하는 모든 변수나 컨테이너가 제거될 때까지 유지된다."
   ]
  }
 ],
 "metadata": {
  "kernelspec": {
   "display_name": ".venv",
   "language": "python",
   "name": "python3"
  },
  "language_info": {
   "codemirror_mode": {
    "name": "ipython",
    "version": 3
   },
   "file_extension": ".py",
   "mimetype": "text/x-python",
   "name": "python",
   "nbconvert_exporter": "python",
   "pygments_lexer": "ipython3",
   "version": "3.12.3"
  }
 },
 "nbformat": 4,
 "nbformat_minor": 2
}
