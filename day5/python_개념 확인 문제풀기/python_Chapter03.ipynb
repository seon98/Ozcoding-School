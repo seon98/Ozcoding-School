{
 "cells": [
  {
   "cell_type": "markdown",
   "metadata": {},
   "source": [
    "<span style=\"font-size:100%\">\n",
    "\n",
    "수업은 모두 열심히 들으셨나요?\n",
    "\n",
    "간혹 강의에서 언급되지 않은 내용이 문제로 나올 수 있습니다.<br>\n",
    "그럴땐 강의 내용 외 문제는 구글링을 통해 해결해주세요<br></span>\n",
    "<span style=\"font-size:80%\">\n",
    "(구글링 또한 개발자가 갖쳐야할 역량 중에 하나랍니다 😊)\n",
    "</span>\n",
    "\n",
    "---"
   ]
  },
  {
   "cell_type": "markdown",
   "metadata": {},
   "source": [
    "<span style=\"font-size:80%\">[문제1]<br><br></span>\n",
    "```주로 작성 중인 코드의 끝을 알리는 기호로 사용되며 파이썬에서 한 줄에 작성된 서로 다른 코드를 구분 지을 때 사용할 수 있는 기호를 골라주세요```\n",
    "\n",
    "1. ' , ' (쉼표)\n",
    "2. ' + ' (더하기 기호)\n",
    "3. ' ; ' (세미콜론)\n",
    "4. ' / ' (슬래시)"
   ]
  },
  {
   "cell_type": "markdown",
   "metadata": {},
   "source": [
    "<span style=\"color:red\">답변</span> :"
   ]
  },
  {
   "cell_type": "markdown",
   "metadata": {},
   "source": [
    "3번 세미콜론"
   ]
  },
  {
   "cell_type": "markdown",
   "metadata": {},
   "source": [
    "----"
   ]
  },
  {
   "cell_type": "markdown",
   "metadata": {},
   "source": [
    "<span style=\"font-size:80%\">[문제2]<br><br></span>\n",
    "```Python의 PEP 8은 무엇인지 설명하고 PEP 8의 핵심적인 규칙을 1개 이상을 설명해주세요```"
   ]
  },
  {
   "cell_type": "markdown",
   "metadata": {},
   "source": [
    "<span style=\"color:red\">답변</span>"
   ]
  },
  {
   "cell_type": "markdown",
   "metadata": {},
   "source": [
    "PEP 8의 목적은 여러 사람이 함계 작업할 때 코드 스타일을 통일시켜 협업 효율을 높이고, 누구나 쉽게 코드를 읽고 이해할 수 있도록 가독성을 향상시키는 것\n",
    "PEP 8의 핵심 규칙으로는 첫번째, [들여쓰기] 들여쓰기는 문법적으로 중요한데, PEP 8에서는 스페이스 4간을 사용토록 권장하고 있다.두번째, [불필요한 공백 피하기] 괄호 안에서 공백 사용 금지: a = (1, 2, 3)처럼 괄호 안에는 공백을 넣지 않고, 기호 앞뒤 공백에 연산자 앞뒤로 공백을 넣는다."
   ]
  },
  {
   "cell_type": "markdown",
   "metadata": {},
   "source": [
    "----"
   ]
  },
  {
   "cell_type": "markdown",
   "metadata": {},
   "source": [
    "<span style=\"font-size:80%\">[문제3]<br><br></span>\n",
    "```Python에서 \"#\"이 의마하는 것은 무엇인지 설명해주세요```"
   ]
  },
  {
   "cell_type": "markdown",
   "metadata": {},
   "source": [
    "<span style=\"color:red\">답변</span>"
   ]
  },
  {
   "cell_type": "markdown",
   "metadata": {},
   "source": [
    "\"#\"는 주석을 의미하며, 주석은 코드에 대한 설명을 추가할 때 사용되며, python 인터프리터는 주석을 실행하지 않는다. 주석을 통해 코드의 의도를 설명하거나, 추후에 코드를 수정할 때 참고할 수 있도록 도와주는 역할을 한다."
   ]
  },
  {
   "cell_type": "markdown",
   "metadata": {},
   "source": [
    "----"
   ]
  },
  {
   "cell_type": "markdown",
   "metadata": {},
   "source": [
    "<span style=\"font-size:80%\">[문제4]<br><br></span>\n",
    "```Python의 들여쓰기 장점과 기능에 대해 설명해주세요```"
   ]
  },
  {
   "cell_type": "markdown",
   "metadata": {},
   "source": [
    "<span style=\"color:red\">답변</span>"
   ]
  },
  {
   "cell_type": "markdown",
   "metadata": {},
   "source": [
    "들여쓰기는 코드 블록의 범위를 정의하는데 사용되며, 다른 프로그래밍 언어에서 사용하는 중괄호{}를 대체하는 방식이다. 이로 인해 python은 코드가 깔끔하고 가독성이 높다는 장점이 있으며, 그 기능에는 코드 블록의 구분, 가독성 향상, 구문 오류 방지등의 기능이 있다."
   ]
  },
  {
   "cell_type": "markdown",
   "metadata": {},
   "source": [
    "----"
   ]
  },
  {
   "cell_type": "markdown",
   "metadata": {},
   "source": [
    "<span style=\"font-size:80%\">[문제5]<br><br></span>\n",
    "```print( )문의 기능 및 특징에 대해 설명해주세요```"
   ]
  },
  {
   "cell_type": "markdown",
   "metadata": {},
   "source": [
    "<span style=\"color:red\">답변</span>"
   ]
  },
  {
   "cell_type": "markdown",
   "metadata": {},
   "source": [
    "print() 함수는 파이썬에서 가장 기본적이고 자주 사용되는 함수로, 콘솔에 출력을 할 때 사용되며, 이 함수는 다양한 데이터를 표준 출력 장치(주로 화면)에 출력하는 역할을 한다.\n",
    "그리고 그 기능에는 다양한 데이터 유형 출력: 함수는 숫자, 문자열, 리스트, 튜플 등 다양한 데이터 유형을 출력할 수 있는 기능.\n",
    "여러 값 출력: 여러 개의 값을 한 번에 출력할 수 있는 기능. 각 값은 기본적으로 공백으로 구분\n",
    "구분자 (Separator) 지정: print() 함수는 sep 매개변수를 사용해 값 사이의 구분자를 변경할 수 있습니다. 기본 구분자는 공백이지만, 이를 다른 문자나 문자열로 변경할 수 있는 기능.\n",
    "끝 문자 (End) 지정: print()는 기본적으로 각 출력을 끝낸 후 새로운 줄로 이동하는데, end 매개변수를 사용하면 출력 후에 끝에 붙는 문자를 변경할 수 있는 기능. 기본값은 \\n(줄바꿈)이다.\n",
    "파일에 출력: print() 함수는 기본적으로 화면에 출력되지만, file 매개변수를 사용하여 파일에 출력할 수도 있다. file 매개변수에 파일 객체를 전달하면, 그 파일에 출력이 저장되는 기능.\n",
    "이처럼 여러 기능이 있으며, 결론적으로 print() 함수는 파이썬에서 출력을 담당하는 중요한 함수입니다. 다양한 매개변수와 기능을 활용하면 출력 형식을 자유자재로 조정할 수 있으며, 이를 통해 디버깅, 사용자와의 상호작용, 또는 파일로의 데이터 기록 등 다양한 작업을 효율적으로 처리할 수 있습니다.\n"
   ]
  }
 ],
 "metadata": {
  "language_info": {
   "name": "python"
  }
 },
 "nbformat": 4,
 "nbformat_minor": 2
}
