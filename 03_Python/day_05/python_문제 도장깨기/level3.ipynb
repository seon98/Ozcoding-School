{
 "cells": [
  {
   "cell_type": "markdown",
   "metadata": {
    "id": "WXEwMsfUct7U"
   },
   "source": [
    "안녕하세요.<br><br>\n",
    "수강생 여러분~! \n",
    "\n",
    "\"Challenge : 사칙연산을 이용해 문제 풀기\"는 잘 풀어보셨나요?\n",
    "\n",
    "\n",
    "너~~무 어려웠어요! 하는 분들을 위해 만들어봤습니다!\n",
    "\n",
    "문제 도장깨기 !!!!!\n",
    "\n",
    "수학적 사고도 한번 길러보세용 :)\n",
    "\n",
    "차근차근 풀어나가면 파이썬 정복 가능입니다!\n",
    "\n",
    "화이팅 !\n",
    "\n",
    "\n",
    "Chapter04의 수업 내용을 바탕으로 아래 문제를 풀어주시면 됩니다.\n",
    "\n",
    "<br>\n",
    "\n",
    "[**답변 입력 방법**]\n",
    "\n",
    "문제 아래에 있는 코드 입력창에 정답코드를 작성하신 후  __▷ 버튼을 클릭해 코드를 실행__ 해보세요<br>\n",
    "<br>"
   ]
  },
  {
   "cell_type": "markdown",
   "metadata": {
    "id": "qoyC9wF-3hvs"
   },
   "source": [
    "-----"
   ]
  },
  {
   "cell_type": "markdown",
   "metadata": {},
   "source": [
    "<br>\n",
    "\n",
    "__[문제1]__\n",
    "\n",
    "어떤 공원의 크기는 가로 50m, 세로 30m입니다. \n",
    "\n",
    "공원 내부에 5개의 조형물이 있으며, 각 조형물의 면적은 10m²입니다. \n",
    "\n",
    "이 공원의 실제 사용 면적을 구하세요. (cm로 구해주세요)\n",
    "\n",
    "\n"
   ]
  },
  {
   "cell_type": "code",
   "execution_count": 3,
   "metadata": {},
   "outputs": [
    {
     "name": "stdout",
     "output_type": "stream",
     "text": [
      "14500000\n"
     ]
    }
   ],
   "source": [
    "# 공원의 가로 길이 (단위: m)\n",
    "park_width_m = 50\n",
    "# 공원의 세로 길이 (단위: m)\n",
    "park_length_m = 30\n",
    "# 조형물의 개수\n",
    "num_sculptures = 5\n",
    "# 각 조형물의 면적 (단위: m²)\n",
    "sculpture_area_m2 = 10\n",
    "\n",
    "# 공원의 실제 사용 면적을 제곱센티미터(cm²)로 계산합니다.\n",
    "# (전체 면적(m²) - 조형물 면적 합계(m²)) * (100 cm/m * 100 cm/m)\n",
    "usable_area_cm2 = (park_width_m * park_length_m - num_sculptures * sculpture_area_m2) * 10000\n",
    "\n",
    "# 계산된 실제 사용 면적(cm²)을 출력합니다.\n",
    "print(usable_area_cm2)"
   ]
  },
  {
   "cell_type": "markdown",
   "metadata": {},
   "source": [
    "<br>\n",
    "\n",
    "__[문제2]__\n",
    "\n",
    "2권씩 묶여서 팔리는 책의 가격은 12,000원입니다. \n",
    "\n",
    "나는 3묶음을 살 겁니다.\n",
    "\n",
    "근데 최종 가격을 보니 10%의 세금이 붙어있습니다.\n",
    "\n",
    "최종 가격을 구해주세요."
   ]
  },
  {
   "cell_type": "code",
   "execution_count": 4,
   "metadata": {},
   "outputs": [
    {
     "name": "stdout",
     "output_type": "stream",
     "text": [
      "39600.0\n"
     ]
    }
   ],
   "source": [
    "# 2권씩 묶인 책 한 묶음의 가격 (단위: 원)\n",
    "price_per_bundle = 12000\n",
    "\n",
    "# 구매할 묶음 수\n",
    "number_of_bundles = 3\n",
    "\n",
    "# 세금 비율 (10%를 소수점으로 표현)\n",
    "tax_rate = 0.1\n",
    "\n",
    "# 1. 구매 전 총 가격을 계산합니다.\n",
    "total_price_before_tax = price_per_bundle * number_of_bundles\n",
    "\n",
    "# 2. 부가될 세금 금액을 계산합니다.\n",
    "tax_amount = total_price_before_tax * tax_rate\n",
    "\n",
    "# 3. 최종 가격을 계산합니다 (구매 전 총 가격 + 세금 금액).\n",
    "final_price = total_price_before_tax + tax_amount\n",
    "\n",
    "# 최종 가격을 출력합니다.\n",
    "print(final_price)"
   ]
  },
  {
   "cell_type": "markdown",
   "metadata": {},
   "source": [
    "<br>\n",
    "\n",
    "__[문제3]__\n",
    "\n",
    "가로 20m, 세로 15m인 직사각형 정원의 면적을 구하세요.\n"
   ]
  },
  {
   "cell_type": "code",
   "execution_count": 5,
   "metadata": {
    "id": "74wtVQFFc_h1"
   },
   "outputs": [
    {
     "name": "stdout",
     "output_type": "stream",
     "text": [
      "300\n"
     ]
    }
   ],
   "source": [
    "# 정원의 가로 길이 (단위: m)\n",
    "garden_width = 20\n",
    "# 정원의 세로 길이 (단위: m)\n",
    "garden_length = 15\n",
    "\n",
    "# 직사각형의 면적은 가로 길이와 세로 길이를 곱하여 계산합니다.\n",
    "garden_area = garden_width * garden_length\n",
    "\n",
    "# 계산된 정원의 면적을 출력합니다.\n",
    "print(garden_area)"
   ]
  },
  {
   "cell_type": "markdown",
   "metadata": {},
   "source": [
    "<br>\n",
    "\n",
    "__[문제3-1]__\n",
    "\n",
    "문제 1에서 구한 정원의 면적에서, 정원의 5%를 차지하는 풀밭 면적을 구하세요.\n",
    "\n",
    "\n"
   ]
  },
  {
   "cell_type": "code",
   "execution_count": 6,
   "metadata": {
    "id": "9kvBxa6PdhgA"
   },
   "outputs": [
    {
     "name": "stdout",
     "output_type": "stream",
     "text": [
      "15.0\n"
     ]
    }
   ],
   "source": [
    "# 문제 1에서 구한 정원의 면적 (단위: m²)\n",
    "garden_area = 300\n",
    "\n",
    "# 풀밭이 정원 면적에서 차지하는 비율 (5%를 소수점으로 표현)\n",
    "grass_area_ratio = 0.05\n",
    "\n",
    "# 풀밭의 면적을 계산합니다. 정원 면적에 풀밭 비율을 곱합니다.\n",
    "grass_area = garden_area * grass_area_ratio\n",
    "\n",
    "# 계산된 풀밭 면적을 출력합니다.\n",
    "print(grass_area)"
   ]
  },
  {
   "cell_type": "markdown",
   "metadata": {
    "id": "2Jte2VLKdiPm"
   },
   "source": [
    "__[문제3-2]__\n",
    "\n",
    "풀밭 면적을 제외한 나머지 정원의 면적에 나무를 심고 싶습니다.\n",
    "\n",
    "나무 1그루가 차지하는 면적이 2m²일 때, 심을 수 있는 나무의 최대 개수를 구하세요."
   ]
  },
  {
   "cell_type": "code",
   "execution_count": 7,
   "metadata": {},
   "outputs": [
    {
     "name": "stdout",
     "output_type": "stream",
     "text": [
      "142.0\n"
     ]
    }
   ],
   "source": [
    "# 문제 2에서 구한 풀밭의 면적 (단위: m²)\n",
    "grass_area = 15.0\n",
    "\n",
    "# 문제 1에서 구한 정원의 전체 면적 (단위: m²)\n",
    "garden_area = 300\n",
    "\n",
    "# 나무를 심을 수 있는 나머지 정원의 면적을 계산합니다.\n",
    "# 전체 정원 면적에서 풀밭 면적을 뺍니다.\n",
    "available_area_for_trees = garden_area - grass_area\n",
    "\n",
    "# 나무 한 그루가 차지하는 면적 (단위: m²)\n",
    "area_per_tree = 2\n",
    "\n",
    "# 심을 수 있는 나무의 최대 개수를 계산합니다.\n",
    "# 나무를 심을 수 있는 면적을 나무 한 그루가 차지하는 면적으로 나눕니다.\n",
    "max_trees = available_area_for_trees // area_per_tree\n",
    "\n",
    "# 계산된 최대 나무 개수를 출력합니다.\n",
    "print(max_trees)"
   ]
  }
 ],
 "metadata": {
  "colab": {
   "authorship_tag": "ABX9TyM3gebHvdgzn1rFsPHWTyo9",
   "provenance": []
  },
  "kernelspec": {
   "display_name": ".venv",
   "language": "python",
   "name": "python3"
  },
  "language_info": {
   "codemirror_mode": {
    "name": "ipython",
    "version": 3
   },
   "file_extension": ".py",
   "mimetype": "text/x-python",
   "name": "python",
   "nbconvert_exporter": "python",
   "pygments_lexer": "ipython3",
   "version": "3.12.3"
  }
 },
 "nbformat": 4,
 "nbformat_minor": 0
}
