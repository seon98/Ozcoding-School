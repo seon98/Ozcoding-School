{
 "cells": [
  {
   "cell_type": "markdown",
   "metadata": {},
   "source": [
    "[문제] \n",
    "\n",
    "'Employee' 클래스를 선언하세요. \n",
    "\n",
    "이 클래스는 월급인상률을 의미하는 클래스 변수로 'raise_amount'를 갖고 있으며, 기본값은 1.04입니다. 다음 급여는 기본 급여에 월급인상률을 곱한 값으로 결정합니다.\n",
    "\n",
    "또한, 각 직원의 이름(name)과 급여(salary)를 속성으로 가지며, 'apply_raise' 메소드를 통해 급여에 'raise_amount'를 적용할 수 있어야 합니다.\n",
    "\n",
    "'Employee' 클래스의 객체 두 개를 생성하고, 한 객체에만 'raise_amount'를 변경한 후, 두 객체의 급여를 증가시켜보세요.<br>\n",
    "그리고 각 객체의 새로운 급여를 출력하세요."
   ]
  },
  {
   "cell_type": "code",
   "execution_count": 1,
   "metadata": {},
   "outputs": [
    {
     "name": "stdout",
     "output_type": "stream",
     "text": [
      "김철수의 인상된 급여: 3150000.0원\n",
      "박선영의 인상된 급여: 4160000.0원\n"
     ]
    }
   ],
   "source": [
    "class Employee:\n",
    "    raise_amount = 1.04  # 기본 월급 인상률\n",
    "\n",
    "    def __init__(self, name, salary):\n",
    "        self.name = name\n",
    "        self.salary = salary\n",
    "\n",
    "    def apply_raise(self):\n",
    "        self.salary = self.salary * self.raise_amount\n",
    "\n",
    "# 직원 객체 두 개 생성\n",
    "employee_1 = Employee(\"김철수\", 3000000)\n",
    "employee_2 = Employee(\"박선영\", 4000000)\n",
    "\n",
    "# 첫 번째 객체의 월급 인상률 변경\n",
    "employee_1.raise_amount = 1.05\n",
    "\n",
    "# 두 객체의 급여 인상\n",
    "employee_1.apply_raise()\n",
    "employee_2.apply_raise()\n",
    "\n",
    "# 새로운 급여 출력\n",
    "print(f\"{employee_1.name}의 인상된 급여: {employee_1.salary}원\")\n",
    "print(f\"{employee_2.name}의 인상된 급여: {employee_2.salary}원\")"
   ]
  }
 ],
 "metadata": {
  "kernelspec": {
   "display_name": "Python 3",
   "language": "python",
   "name": "python3"
  },
  "language_info": {
   "codemirror_mode": {
    "name": "ipython",
    "version": 3
   },
   "file_extension": ".py",
   "mimetype": "text/x-python",
   "name": "python",
   "nbconvert_exporter": "python",
   "pygments_lexer": "ipython3",
   "version": "3.13.3"
  }
 },
 "nbformat": 4,
 "nbformat_minor": 2
}
