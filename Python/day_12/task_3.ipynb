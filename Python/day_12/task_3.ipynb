{
 "cells": [
  {
   "cell_type": "markdown",
   "metadata": {},
   "source": [
    "[문제]\n",
    "\n",
    "'Book' 클래스를 선언하세요. \n",
    "\n",
    "이 클래스는 title (제목)과 author (저자) 두 개의 속성을 갖습니다. \n",
    "\n",
    "__str__ 특수 메소드를 오버라이드하여, 객체를 문자열로 변환할 때 \"제목: [title], 저자: [author]\" 형식의 문자열을 반환하도록 하세요. \n",
    "\n",
    "'Book' 객체를 하나 생성하고, print 함수를 사용하여 해당 객체의 문자열 표현을 출력하세요."
   ]
  },
  {
   "cell_type": "code",
   "execution_count": 3,
   "metadata": {},
   "outputs": [
    {
     "name": "stdout",
     "output_type": "stream",
     "text": [
      "제목: 파이썬 첫걸음, 저자: 이름없음\n",
      "제목: 어린 왕자, 저자: 앙투안 드 생텍쥐페리\n"
     ]
    }
   ],
   "source": [
    "# Book 클래스 선언\n",
    "class Book:\n",
    "    # __init__ 메소드: 객체를 만들 때 제목(title)과 저자(author)를 받아서 속성에 저장\n",
    "    def __init__(self, title, author):\n",
    "        self.title = title  # 객체의 title 속성에 값 할당\n",
    "        self.author = author # 객체의 author 속성에 값 할당\n",
    "\n",
    "    # __str__ 메소드: 객체를 문자열로 표현할 때 사용되는 형태 정의\n",
    "    def __str__(self):\n",
    "        # f-string을 사용하여 title과 author 속성 값을 포함하는 문자열 반환\n",
    "        return f\"제목: {self.title}, 저자: {self.author}\"\n",
    "\n",
    "# Book 객체 생성\n",
    "# '파이썬 첫걸음'이라는 제목과 '이름없음'라는 저자를 가진 Book 객체를 만듭니다.\n",
    "my_book = Book(\"파이썬 첫걸음\", \"이름없음\")\n",
    "\n",
    "# print 함수를 사용하여 my_book 객체를 출력합니다.\n",
    "# 이때 파이썬은 자동으로 my_book 객체의 __str__ 메소드를 호출하여 그 반환값을 출력합니다.\n",
    "print(my_book)\n",
    "\n",
    "# 다른 책 객체도 만들어보기.\n",
    "another_book = Book(\"어린 왕자\", \"앙투안 드 생텍쥐페리\")\n",
    "print(another_book)"
   ]
  },
  {
   "cell_type": "markdown",
   "metadata": {},
   "source": []
  }
 ],
 "metadata": {
  "kernelspec": {
   "display_name": "Python 3",
   "language": "python",
   "name": "python3"
  },
  "language_info": {
   "codemirror_mode": {
    "name": "ipython",
    "version": 3
   },
   "file_extension": ".py",
   "mimetype": "text/x-python",
   "name": "python",
   "nbconvert_exporter": "python",
   "pygments_lexer": "ipython3",
   "version": "3.13.3"
  }
 },
 "nbformat": 4,
 "nbformat_minor": 2
}
