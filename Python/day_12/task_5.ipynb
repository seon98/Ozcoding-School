{
 "cells": [
  {
   "cell_type": "markdown",
   "metadata": {},
   "source": [
    "[문제]\n",
    "\n",
    "'Account' 클래스를 작성하세요. \n",
    "\n",
    "이 클래스는 소유자(owner)와 잔액(balance)을 속성으로 가지며, 잔액은 프라이빗 변수로 선언합니다. \n",
    "\n",
    "'deposit'와 'withdraw' 두 개의 메소드를 통해 잔액을 조작할 수 있도록 하세요. \n",
    "\n",
    "이 때, 잔액은 음수가 될 수 없도록 체크해야 합니다. 'Account' 객체를 생성하고,<br>\n",
    "입금 및 출금 작업을 시뮬레이션한 후, 최종 잔액을 출력하세요."
   ]
  },
  {
   "cell_type": "code",
   "execution_count": 1,
   "metadata": {},
   "outputs": [
    {
     "name": "stdout",
     "output_type": "stream",
     "text": [
      "계좌 주: 홍길동\n",
      "초기 잔액: 10000원\n",
      "5000원이 입금되었습니다. 현재 잔액: 15000원\n",
      "입금 금액은 0보다 커야 합니다.\n",
      "2000원이 출금되었습니다. 현재 잔액: 13000원\n",
      "잔액이 부족합니다.\n",
      "출금 금액은 0보다 커야 합니다.\n",
      "최종 잔액: 13000원\n"
     ]
    }
   ],
   "source": [
    "class Account:\n",
    "    def __init__(self, owner, balance):\n",
    "        self.owner = owner\n",
    "        self.__balance = balance\n",
    "\n",
    "    def deposit(self, amount):\n",
    "        if amount > 0:\n",
    "            self.__balance += amount\n",
    "            print(f\"{amount}원이 입금되었습니다. 현재 잔액: {self.__balance}원\")\n",
    "        else:\n",
    "            print(\"입금 금액은 0보다 커야 합니다.\")\n",
    "\n",
    "    def withdraw(self, amount):\n",
    "        if amount > 0 and amount <= self.__balance:\n",
    "            self.__balance -= amount\n",
    "            print(f\"{amount}원이 출금되었습니다. 현재 잔액: {self.__balance}원\")\n",
    "        elif amount <= 0:\n",
    "            print(\"출금 금액은 0보다 커야 합니다.\")\n",
    "        else:\n",
    "            print(\"잔액이 부족합니다.\")\n",
    "\n",
    "    def get_balance(self):\n",
    "        return self.__balance\n",
    "\n",
    "# Account 객체 생성\n",
    "account = Account(\"홍길동\", 10000)\n",
    "print(f\"계좌 주: {account.owner}\")\n",
    "print(f\"초기 잔액: {account.get_balance()}원\")\n",
    "\n",
    "# 입금 시뮬레이션\n",
    "account.deposit(5000)\n",
    "account.deposit(-1000)\n",
    "\n",
    "# 출금 시뮬레이션\n",
    "account.withdraw(2000)\n",
    "account.withdraw(15000)\n",
    "account.withdraw(-500)\n",
    "\n",
    "# 최종 잔액 출력\n",
    "print(f\"최종 잔액: {account.get_balance()}원\")"
   ]
  }
 ],
 "metadata": {
  "kernelspec": {
   "display_name": "Python 3",
   "language": "python",
   "name": "python3"
  },
  "language_info": {
   "codemirror_mode": {
    "name": "ipython",
    "version": 3
   },
   "file_extension": ".py",
   "mimetype": "text/x-python",
   "name": "python",
   "nbconvert_exporter": "python",
   "pygments_lexer": "ipython3",
   "version": "3.13.3"
  }
 },
 "nbformat": 4,
 "nbformat_minor": 2
}
