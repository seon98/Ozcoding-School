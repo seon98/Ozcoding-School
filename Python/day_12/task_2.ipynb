{
 "cells": [
  {
   "cell_type": "markdown",
   "metadata": {},
   "source": [
    "[문제]\n",
    "\n",
    "'Rectangle' 클래스를 작성하세요. \n",
    "\n",
    "이 클래스는 높이(height)와 너비(width)를 속성으로 가지며, 생성자(__init__)를 통해 이 두 속성을 초기화합니다. \n",
    "\n",
    "'area' 메소드를 추가하여 사각형의 면적을 계산하고 반환하도록 하세요. 높이가 10, 너비가 5인 사각형 객체를 생성하고,<br> \n",
    "이 객체를 사용하여 면적을 계산해 출력하세요."
   ]
  },
  {
   "cell_type": "code",
   "execution_count": 2,
   "metadata": {},
   "outputs": [
    {
     "name": "stdout",
     "output_type": "stream",
     "text": [
      "  [알림] Rectangle 객체가 생성됩니다! (높이: 10, 너비: 5)\n",
      "  [알림] 면적을 계산합니다... (높이 10 * 너비 5)\n",
      "\n",
      "사각형의 최종 면적은: 50\n"
     ]
    }
   ],
   "source": [
    "# 1. 'Rectangle' 클래스 정의.\n",
    "class Rectangle:\n",
    "    # 2. 생성자(__init__)를 만들어요.\n",
    "    #    객체가 생성될 때 height와 width 값을 받아서\n",
    "    #    객체 내부의 속성(self.height, self.width)에 저장.\n",
    "    def __init__(self, height, width):\n",
    "        print(f\"  [알림] Rectangle 객체가 생성됩니다! (높이: {height}, 너비: {width})\")\n",
    "        self.height = height\n",
    "        self.width = width\n",
    "\n",
    "    #    self를 통해 객체의 높이와 너비에 접근\n",
    "    def area(self):\n",
    "        print(f\"  [알림] 면적을 계산합니다... (높이 {self.height} * 너비 {self.width})\")\n",
    "        calculated_area = self.height * self.width\n",
    "        return calculated_area\n",
    "\n",
    "my_rectangle = Rectangle(10, 5)\n",
    "\n",
    "rectangle_area = my_rectangle.area()\n",
    "\n",
    "print(f\"\\n사각형의 최종 면적은: {rectangle_area}\")"
   ]
  },
  {
   "cell_type": "markdown",
   "metadata": {},
   "source": []
  }
 ],
 "metadata": {
  "kernelspec": {
   "display_name": "Python 3",
   "language": "python",
   "name": "python3"
  },
  "language_info": {
   "codemirror_mode": {
    "name": "ipython",
    "version": 3
   },
   "file_extension": ".py",
   "mimetype": "text/x-python",
   "name": "python",
   "nbconvert_exporter": "python",
   "pygments_lexer": "ipython3",
   "version": "3.13.3"
  }
 },
 "nbformat": 4,
 "nbformat_minor": 2
}
