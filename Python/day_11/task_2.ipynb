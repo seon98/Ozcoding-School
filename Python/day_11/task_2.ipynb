{
 "cells": [
  {
   "cell_type": "markdown",
   "metadata": {},
   "source": [
    "파일을 읽어서 내용을 출력하는 프로그램을 작성하세요. \n",
    "\n",
    "- 파일이 존재하지 않을 때 발생하는 FileNotFoundError를 처리\n",
    "- 파일이 존재하지 않을 경우 \"파일을 찾을 수 없습니다.\"라는 메시지를 출력"
   ]
  },
  {
   "cell_type": "code",
   "execution_count": 2,
   "metadata": {},
   "outputs": [
    {
     "name": "stdout",
     "output_type": "stream",
     "text": [
      "\n",
      "----- 오류 발생 -----\n",
      "파일을 찾을 수 없습니다.\n",
      "입력한 파일 이름이 맞는지, 또는 해당 파일이 프로그램이 실행되는 곳(폴더)에 있는지 확인해주세요.\n",
      "--------------------\n",
      "\n",
      "파일 읽기 프로그램을 종료합니다.\n"
     ]
    }
   ],
   "source": [
    "file_name = input(\"파일 이름을 입력하세요: \")\n",
    "\n",
    "try:\n",
    "    with open(file_name, 'r', encoding='utf-8') as my_file:\n",
    "        content = my_file.read()\n",
    "\n",
    "        print(\"\\n----- 파일 내용 시작 -----\")\n",
    "        print(content)\n",
    "        print(\"----- 파일 내용 끝 -----\")\n",
    "\n",
    "except FileNotFoundError:\n",
    "    print(\"\\n----- 오류 발생 -----\")\n",
    "    print(\"파일을 찾을 수 없습니다.\")\n",
    "    print(\"입력한 파일 이름이 맞는지, 또는 해당 파일이 프로그램이 실행되는 곳(폴더)에 있는지 확인해주세요.\")\n",
    "    print(\"--------------------\")\n",
    "\n",
    "print(\"\\n파일 읽기 프로그램을 종료합니다.\")"
   ]
  }
 ],
 "metadata": {
  "kernelspec": {
   "display_name": "Python 3",
   "language": "python",
   "name": "python3"
  },
  "language_info": {
   "codemirror_mode": {
    "name": "ipython",
    "version": 3
   },
   "file_extension": ".py",
   "mimetype": "text/x-python",
   "name": "python",
   "nbconvert_exporter": "python",
   "pygments_lexer": "ipython3",
   "version": "3.13.3"
  }
 },
 "nbformat": 4,
 "nbformat_minor": 2
}
