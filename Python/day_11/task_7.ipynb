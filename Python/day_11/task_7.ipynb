{
 "cells": [
  {
   "cell_type": "markdown",
   "metadata": {},
   "source": [
    "함수 실행 시간을 측정하는 데코레이터 timer_decorator를 작성하세요. \n",
    "\n",
    "임의의 함수가 실행되는 시간을 측정하여 \"함수 실행 시간: x.xx초\" 형태로 출력하세요."
   ]
  },
  {
   "cell_type": "code",
   "execution_count": 5,
   "metadata": {},
   "outputs": [
    {
     "name": "stdout",
     "output_type": "stream",
     "text": [
      "function_a 실행 시간: 1.00초\n",
      "결과: A 완료\n",
      "--------------------\n",
      "function_b 실행 시간: 0.51초\n",
      "결과: B 완료\n"
     ]
    }
   ],
   "source": [
    "import time\n",
    "\n",
    "def function_a():\n",
    "    time.sleep(1) # 1초 대기하는 함수\n",
    "    return \"A 완료\"\n",
    "\n",
    "def function_b():\n",
    "    time.sleep(0.5) # 0.5초 대기하는 함수\n",
    "    return \"B 완료\"\n",
    "\n",
    "# function_a 시간 측정\n",
    "start_time_a = time.time()\n",
    "result_a = function_a()\n",
    "end_time_a = time.time()\n",
    "print(f\"function_a 실행 시간: {end_time_a - start_time_a:.2f}초\")\n",
    "print(f\"결과: {result_a}\")\n",
    "\n",
    "print(\"-\" * 20)\n",
    "\n",
    "# function_b 시간 측정\n",
    "start_time_b = time.time()\n",
    "result_b = function_b()\n",
    "end_time_b = time.time()\n",
    "print(f\"function_b 실행 시간: {end_time_b - start_time_b:.2f}초\")\n",
    "print(f\"결과: {result_b}\")"
   ]
  },
  {
   "cell_type": "markdown",
   "metadata": {},
   "source": []
  }
 ],
 "metadata": {
  "kernelspec": {
   "display_name": "Python 3",
   "language": "python",
   "name": "python3"
  },
  "language_info": {
   "codemirror_mode": {
    "name": "ipython",
    "version": 3
   },
   "file_extension": ".py",
   "mimetype": "text/x-python",
   "name": "python",
   "nbconvert_exporter": "python",
   "pygments_lexer": "ipython3",
   "version": "3.13.3"
  }
 },
 "nbformat": 4,
 "nbformat_minor": 2
}
