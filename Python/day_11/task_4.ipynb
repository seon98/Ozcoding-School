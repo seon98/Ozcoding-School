{
 "cells": [
  {
   "cell_type": "markdown",
   "metadata": {},
   "source": [
    "사용자 정의 예외 NegativeNumberError를 생성하고, 사용자로부터 숫자를 입력받아 음수일 경우 NegativeNumberError를 발생시키는 프로그램을 작성하세요. \n",
    "\n",
    "- 예외 처리 구문을 사용하여 음수 입력 시 \"양수를 입력해주세요.\"라는 메시지를 출력"
   ]
  },
  {
   "cell_type": "code",
   "execution_count": null,
   "metadata": {},
   "outputs": [
    {
     "name": "stdout",
     "output_type": "stream",
     "text": [
      "양수를 입력해주세요.\n",
      "프로그램을 종료합니다.\n"
     ]
    }
   ],
   "source": [
    "# 사용자 정의 예외\n",
    "class NegativeNumberError(Exception):\n",
    "    pass\n",
    "\n",
    "# 사용자 입력 및 예외 처리\n",
    "try:\n",
    "    user_input = input(\"숫자를 입력하세요: \")\n",
    "    if not user_input.strip():\n",
    "        raise ValueError(\"입력이 비어 있습니다. 숫자를 입력해주세요.\")\n",
    "    number = float(user_input)\n",
    "\n",
    "    # 음수 판별 및 예외 발생\n",
    "    if number < 0:\n",
    "        raise NegativeNumberError()\n",
    "\n",
    "    # 정상 입력(양수 또는 0) 시 출력\n",
    "    print(f\"입력된 숫자: {number}\")\n",
    "\n",
    "# NegativeNumberError 발생 시 처리\n",
    "except NegativeNumberError:\n",
    "    print(\"양수를 입력해주세요.\")  # 요청하신 메시지 출력\n",
    "\n",
    "# 프로그램 종료 메시지 출력\n",
    "print(\"프로그램을 종료합니다.\")"
   ]
  }
 ],
 "metadata": {
  "kernelspec": {
   "display_name": "Python 3",
   "language": "python",
   "name": "python3"
  },
  "language_info": {
   "codemirror_mode": {
    "name": "ipython",
    "version": 3
   },
   "file_extension": ".py",
   "mimetype": "text/x-python",
   "name": "python",
   "nbconvert_exporter": "python",
   "pygments_lexer": "ipython3",
   "version": "3.13.3"
  }
 },
 "nbformat": 4,
 "nbformat_minor": 2
}
