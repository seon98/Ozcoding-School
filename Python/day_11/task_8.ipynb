{
 "cells": [
  {
   "cell_type": "markdown",
   "metadata": {},
   "source": [
    "여러분이 자주 사용하는 수학적 연산<br>\n",
    "(예: 삼각형 넓이, 원의 넓이, 직육면체의 넓이)을 수행하는 함수들을 포함하는 mymath.py라는 이름의 모듈을 만드세요. \n",
    "\n",
    "이 모듈을 사용하여 작성된 함수들을 실제로 임포트하고 사용하는 간단한 프로그램을 작성하세요."
   ]
  },
  {
   "cell_type": "code",
   "execution_count": null,
   "metadata": {},
   "outputs": [],
   "source": [
    "import mymath\n",
    "\n",
    "def calculate_triangle_area(base, height):\n",
    "  area = 0.5 * base * height\n",
    "  return area\n",
    "\n",
    "def calculate_circle_area(radius):\n",
    "  area = math.pi * radius * radius\n",
    "  return area\n",
    "\n",
    "def calculate_cuboid_surface_area(length, width, height):\n",
    "  surface_area = 2 * (length * width + length * height + width * height)\n",
    "  return surface_area"
   ]
  },
  {
   "cell_type": "code",
   "execution_count": null,
   "metadata": {},
   "outputs": [
    {
     "name": "stdout",
     "output_type": "stream",
     "text": [
      "--- math 모듈 사용 예제 ---\n"
     ]
    },
    {
     "ename": "NameError",
     "evalue": "name 'calculate_triangle_area' is not defined",
     "output_type": "error",
     "traceback": [
      "\u001b[31m---------------------------------------------------------------------------\u001b[39m",
      "\u001b[31mNameError\u001b[39m                                 Traceback (most recent call last)",
      "\u001b[36mCell\u001b[39m\u001b[36m \u001b[39m\u001b[32mIn[5]\u001b[39m\u001b[32m, line 8\u001b[39m\n\u001b[32m      6\u001b[39m triangle_base = \u001b[32m10\u001b[39m\n\u001b[32m      7\u001b[39m triangle_height = \u001b[32m5\u001b[39m\n\u001b[32m----> \u001b[39m\u001b[32m8\u001b[39m triangle_area_result = \u001b[43mcalculate_triangle_area\u001b[49m(triangle_base, triangle_height)\n\u001b[32m      9\u001b[39m \u001b[38;5;28mprint\u001b[39m(\u001b[33mf\u001b[39m\u001b[33m\"\u001b[39m\u001b[33m밑변 \u001b[39m\u001b[38;5;132;01m{\u001b[39;00mtriangle_base\u001b[38;5;132;01m}\u001b[39;00m\u001b[33m, 높이 \u001b[39m\u001b[38;5;132;01m{\u001b[39;00mtriangle_height\u001b[38;5;132;01m}\u001b[39;00m\u001b[33m인 삼각형의 넓이: \u001b[39m\u001b[38;5;132;01m{\u001b[39;00mtriangle_area_result\u001b[38;5;132;01m}\u001b[39;00m\u001b[33m\"\u001b[39m)\n\u001b[32m     11\u001b[39m \u001b[38;5;28mprint\u001b[39m(\u001b[33m\"\u001b[39m\u001b[33m-\u001b[39m\u001b[33m\"\u001b[39m * \u001b[32m20\u001b[39m)\n",
      "\u001b[31mNameError\u001b[39m: name 'calculate_triangle_area' is not defined"
     ]
    }
   ],
   "source": [
    "# Ensure CELL INDEX 1 is executed before running this cell\n",
    "import mymath\n",
    "\n",
    "print(\"--- math 모듈 사용 예제 ---\")\n",
    "\n",
    "triangle_base = 10\n",
    "triangle_height = 5\n",
    "triangle_area_result = calculate_triangle_area(triangle_base, triangle_height)\n",
    "print(f\"밑변 {triangle_base}, 높이 {triangle_height}인 삼각형의 넓이: {triangle_area_result}\")\n",
    "\n",
    "print(\"-\" * 20)\n",
    "\n",
    "circle_radius = 7\n",
    "circle_area_result = calculate_circle_area(circle_radius)\n",
    "print(f\"반지름 {circle_radius}인 원의 넓이: {circle_area_result:.2f}\")\n",
    "\n",
    "print(\"-\" * 20)\n",
    "\n",
    "cuboid_length = 3\n",
    "cuboid_width = 4\n",
    "cuboid_height = 5\n",
    "cuboid_surface_result = calculate_cuboid_surface_area(cuboid_length, cuboid_width, cuboid_height)\n",
    "print(f\"가로 {cuboid_length}, 세로 {cuboid_width}, 높이 {cuboid_height}인 직육면체의 겉넓이: {cuboid_surface_result}\")\n",
    "\n",
    "print(\"--- 예제 끝 ---\")"
   ]
  },
  {
   "cell_type": "markdown",
   "metadata": {},
   "source": []
  }
 ],
 "metadata": {
  "kernelspec": {
   "display_name": "Python 3",
   "language": "python",
   "name": "python3"
  },
  "language_info": {
   "codemirror_mode": {
    "name": "ipython",
    "version": 3
   },
   "file_extension": ".py",
   "mimetype": "text/x-python",
   "name": "python",
   "nbconvert_exporter": "python",
   "pygments_lexer": "ipython3",
   "version": "3.13.3"
  }
 },
 "nbformat": 4,
 "nbformat_minor": 2
}
