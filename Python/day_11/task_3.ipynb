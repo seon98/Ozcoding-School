{
 "cells": [
  {
   "cell_type": "markdown",
   "metadata": {},
   "source": [
    "사용자로부터 여러 개의 숫자를 입력받아 리스트에 저장한 후, 사용자가 'done'이라고 입력할 때까지 계속 입력받으세요. \n",
    "\n",
    "- 입력 중 숫자가 아닌 값이 입력되면 ValueError를 처리\n",
    "- 숫자 외 값이 입력된 경우 어떤 값이 잘못 입력되었는지 사용자에게 알려주는 문구 출력<br>\n",
    "  (예: f\"잘못된 값: {변수}. 숫자를 입력해주세요.\")\n",
    "\n"
   ]
  },
  {
   "cell_type": "code",
   "execution_count": null,
   "metadata": {},
   "outputs": [
    {
     "name": "stdout",
     "output_type": "stream",
     "text": [
      "\n",
      "입력이 종료되었습니다.\n",
      "입력된 숫자 리스트: []\n",
      "프로그램을 마칩니다.\n"
     ]
    }
   ],
   "source": [
    "numbers_list = []\n",
    "\n",
    "while True:\n",
    "    user_input = input(\"숫자 또는 'done' 입력: \")\n",
    "\n",
    "    if user_input.lower() == 'done':\n",
    "        break\n",
    "\n",
    "    try:\n",
    "        number = float(user_input)\n",
    "        numbers_list.append(number)\n",
    "        print(f\"-> {number}을(를) 리스트에 추가했습니다.\")\n",
    "    except ValueError:\n",
    "        print(f\"잘못된 값: '{user_input}'. 숫자를 입력하거나 'done'을 입력해주세요.\")\n",
    "\n",
    "print(\"\\n입력이 종료되었습니다.\")\n",
    "print(f\"입력된 숫자 리스트: {numbers_list}\")\n",
    "\n",
    "print(\"프로그램을 마칩니다.\")"
   ]
  },
  {
   "cell_type": "code",
   "execution_count": 2,
   "metadata": {},
   "outputs": [
    {
     "name": "stdout",
     "output_type": "stream",
     "text": [
      "-> 100.0을(를) 리스트에 추가했습니다.\n",
      "-> 100.0을(를) 리스트에 추가했습니다.\n",
      "-> 4.0을(를) 리스트에 추가했습니다.\n",
      "-> 2.0을(를) 리스트에 추가했습니다.\n",
      "\n",
      "입력이 종료되었습니다.\n",
      "입력된 숫자 리스트: [100.0, 100.0, 4.0, 2.0]\n",
      "프로그램을 마칩니다.\n"
     ]
    }
   ],
   "source": [
    "numbers_list = []\n",
    "\n",
    "while True:\n",
    "    user_input = input(\"숫자 또는 'done' 입력: \")\n",
    "\n",
    "    if user_input.lower() == 'done':\n",
    "        break\n",
    "\n",
    "    try:\n",
    "        number = float(user_input)\n",
    "        numbers_list.append(number)\n",
    "        print(f\"-> {number}을(를) 리스트에 추가했습니다.\")\n",
    "    except ValueError:\n",
    "        print(f\"잘못된 값: '{user_input}'. 숫자를 입력하거나 'done'을 입력해주세요.\")\n",
    "\n",
    "print(\"\\n입력이 종료되었습니다.\")\n",
    "print(f\"입력된 숫자 리스트: {numbers_list}\")\n",
    "\n",
    "print(\"프로그램을 마칩니다.\")"
   ]
  }
 ],
 "metadata": {
  "kernelspec": {
   "display_name": "Python 3",
   "language": "python",
   "name": "python3"
  },
  "language_info": {
   "codemirror_mode": {
    "name": "ipython",
    "version": 3
   },
   "file_extension": ".py",
   "mimetype": "text/x-python",
   "name": "python",
   "nbconvert_exporter": "python",
   "pygments_lexer": "ipython3",
   "version": "3.13.3"
  }
 },
 "nbformat": 4,
 "nbformat_minor": 2
}
