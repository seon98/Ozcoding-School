{
 "cells": [
  {
   "cell_type": "markdown",
   "metadata": {
    "id": "WXEwMsfUct7U"
   },
   "source": [
    "안녕하세요.<br><br>\n",
    "수강생 여러분~! \n",
    "\n",
    "\"Challenge : 사칙연산을 이용해 문제 풀기\"는 잘 풀어보셨나요?\n",
    "\n",
    "\n",
    "너~~무 어려웠어요! 하는 분들을 위해 만들어봤습니다!\n",
    "\n",
    "문제 도장깨기 !!!!!\n",
    "\n",
    "차근차근 풀어나가면 파이썬 정복 가능입니다!\n",
    "\n",
    "화이팅 !\n",
    "\n",
    "\n",
    "Chapter04의 수업 내용을 바탕으로 아래 문제를 풀어주시면 됩니다.\n",
    "\n",
    "<br>\n",
    "\n",
    "[**답변 입력 방법**]\n",
    "\n",
    "문제 아래에 있는 코드 입력창에 정답코드를 작성하신 후  __▷ 버튼을 클릭해 코드를 실행__ 해보세요<br>\n",
    "<br>"
   ]
  },
  {
   "cell_type": "markdown",
   "metadata": {
    "id": "qoyC9wF-3hvs"
   },
   "source": [
    "-----"
   ]
  },
  {
   "cell_type": "markdown",
   "metadata": {},
   "source": [
    "<br>\n",
    "\n",
    "__[문제1]__\n",
    "\n",
    "한 상자에 사과가 7개 들어있습니다. \n",
    "\n",
    "사과가 많이 먹고 싶어서 3개의 상자를 구입했습니다!\n",
    "\n",
    "총 사과의 개수를 계산해주세요.\n",
    "\n",
    "\n",
    "<br>"
   ]
  },
  {
   "cell_type": "code",
   "execution_count": 1,
   "metadata": {},
   "outputs": [
    {
     "name": "stdout",
     "output_type": "stream",
     "text": [
      "총 사과의 개수는: 21\n"
     ]
    }
   ],
   "source": [
    "# 한 상자에 사과 7개, 3개의 상자 구입\n",
    "apples_per_box = 7\n",
    "number_of_boxes = 3\n",
    "\n",
    "# 총 사과의 개수 계산\n",
    "total_apples = apples_per_box * number_of_boxes\n",
    "\n",
    "# 결과 출력\n",
    "print(\"총 사과의 개수는:\", total_apples)\n"
   ]
  },
  {
   "cell_type": "markdown",
   "metadata": {},
   "source": [
    "<br>\n",
    "\n",
    "__[문제2]__\n",
    "\n",
    "영화 티켓 한 장의 가격은 10,000원입니다. \n",
    "\n",
    "친구 한명이 로또에 당첨되서 티켓을 사준다고 합니다!\n",
    "\n",
    "4명의 친구가 각각 4장씩 구매할 때, 총 가격이 어떻게 되는지 계산해주세요\n",
    "\n",
    "<br>"
   ]
  },
  {
   "cell_type": "code",
   "execution_count": 2,
   "metadata": {},
   "outputs": [
    {
     "name": "stdout",
     "output_type": "stream",
     "text": [
      "총 가격은: 160000 원\n"
     ]
    }
   ],
   "source": [
    "# 영화 티켓 한 장의 가격\n",
    "ticket_price = 10000\n",
    "\n",
    "# 친구 4명이 각각 4장씩 구매\n",
    "number_of_friends = 4\n",
    "tickets_per_friend = 4\n",
    "\n",
    "# 총 가격 계산\n",
    "total_price = ticket_price * number_of_friends * tickets_per_friend\n",
    "\n",
    "# 결과 출력\n",
    "print(\"총 가격은:\", total_price, \"원\")\n"
   ]
  },
  {
   "cell_type": "markdown",
   "metadata": {
    "id": "rAD_O3Gmc_43"
   },
   "source": [
    "<br>\n",
    "\n",
    "__[문제3]__\n",
    "\n",
    "지각입니다 !!!!!\n",
    "\n",
    "지하철을 타고 5개의 역이 남았습니다. \n",
    "\n",
    "각 역은 3분씩 걸립니다. 시간을 계산해볼 수 있도록 5개의 역을 지나는데 걸린 총 시간을 구해주세요.\n",
    "\n"
   ]
  },
  {
   "cell_type": "code",
   "execution_count": 3,
   "metadata": {
    "id": "74wtVQFFc_h1"
   },
   "outputs": [
    {
     "name": "stdout",
     "output_type": "stream",
     "text": [
      "총 걸린 시간은: 15 분\n"
     ]
    }
   ],
   "source": [
    "# 각 역을 지나는데 걸리는 시간 (분)\n",
    "time_per_station = 3\n",
    "\n",
    "# 남은 역의 개수\n",
    "number_of_stations = 5\n",
    "\n",
    "# 총 시간 계산\n",
    "total_time = time_per_station * number_of_stations\n",
    "\n",
    "# 결과 출력\n",
    "print(\"총 걸린 시간은:\", total_time, \"분\")\n"
   ]
  },
  {
   "cell_type": "markdown",
   "metadata": {
    "id": "3uK_auXYdgk2"
   },
   "source": [
    "<br>__[문제4]__\n",
    "\n",
    "파이썬 기초 관련 책이 9권 있습니다.\n",
    "\n",
    "오즈코딩스쿨을 통해 파이썬을 마스터 해버려서 필요없습니다.\n",
    "\n",
    "책을 3명의 친구에게 똑같이 나눠줄 때, 각 사람에게 몇 권씩 나누어줄 수 있을까요?\n"
   ]
  },
  {
   "cell_type": "code",
   "execution_count": 5,
   "metadata": {
    "id": "9kvBxa6PdhgA"
   },
   "outputs": [
    {
     "name": "stdout",
     "output_type": "stream",
     "text": [
      "각 친구에게 나누어줄 책의 개수는: 3\n"
     ]
    }
   ],
   "source": [
    "# 파이썬 기초 관련 책의 개수\n",
    "total_books = 9\n",
    "\n",
    "# 책을 나누어 줄 친구의 수\n",
    "number_of_friends = 3\n",
    "\n",
    "# 각 친구에게 나누어줄 책의 개수 계산\n",
    "books_per_friend = total_books // number_of_friends\n",
    "\n",
    "# 결과 출력\n",
    "print(\"각 친구에게 나누어줄 책의 개수는:\", books_per_friend)\n"
   ]
  },
  {
   "cell_type": "markdown",
   "metadata": {
    "id": "2Jte2VLKdiPm"
   },
   "source": [
    "__[문제5]__\n",
    "\n",
    "무인도에 2명의 갇혀있습니다.\n",
    "\n",
    "가진건 초콜릿 8개뿐,,\n",
    "\n",
    "각 사람은 초콜릿을 몇 개씩 먹을 수 있을까요?\n",
    "\n"
   ]
  },
  {
   "cell_type": "code",
   "execution_count": 6,
   "metadata": {},
   "outputs": [
    {
     "name": "stdout",
     "output_type": "stream",
     "text": [
      "각 사람은 초콜릿을 4 개씩 먹을 수 있습니다.\n"
     ]
    }
   ],
   "source": [
    "# 초콜릿의 개수\n",
    "total_chocolates = 8\n",
    "\n",
    "# 사람의 수\n",
    "number_of_people = 2\n",
    "\n",
    "# 각 사람에게 나누어줄 초콜릿의 개수 계산\n",
    "chocolates_per_person = total_chocolates // number_of_people\n",
    "\n",
    "# 결과 출력\n",
    "print(\"각 사람은 초콜릿을\", chocolates_per_person, \"개씩 먹을 수 있습니다.\")\n"
   ]
  }
 ],
 "metadata": {
  "colab": {
   "authorship_tag": "ABX9TyM3gebHvdgzn1rFsPHWTyo9",
   "provenance": []
  },
  "kernelspec": {
   "display_name": ".venv",
   "language": "python",
   "name": "python3"
  },
  "language_info": {
   "codemirror_mode": {
    "name": "ipython",
    "version": 3
   },
   "file_extension": ".py",
   "mimetype": "text/x-python",
   "name": "python",
   "nbconvert_exporter": "python",
   "pygments_lexer": "ipython3",
   "version": "3.12.3"
  }
 },
 "nbformat": 4,
 "nbformat_minor": 0
}
