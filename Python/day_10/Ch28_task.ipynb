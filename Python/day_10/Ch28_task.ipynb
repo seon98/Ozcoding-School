{
 "cells": [
  {
   "cell_type": "markdown",
   "metadata": {},
   "source": [
    "사용자로부터 3개의 숫자를 입력받아, 이를 튜플로 만든 후 최소값과 최대값을 출력하는 함수 min_max를 작성하세요."
   ]
  },
  {
   "cell_type": "code",
   "execution_count": 6,
   "metadata": {},
   "outputs": [
    {
     "name": "stdout",
     "output_type": "stream",
     "text": [
      "입력된 튜플: (10, 4, 9)\n",
      "최소값: 4 최대값: 10\n"
     ]
    }
   ],
   "source": [
    "def min_max():\n",
    "    user_input = input(\"세 개의 숫자를 쉼표로 구분하여 입력하세요 (예: 10, 4, 9): \")\n",
    "    numbers = tuple(map(int, user_input.split(',')))\n",
    "\n",
    "    if len(numbers) != 3:\n",
    "        print(\"숫자는 정확히 3개를 입력해야 합니다.\")\n",
    "        return\n",
    "\n",
    "    print(\"입력된 튜플:\", numbers)\n",
    "    print(\"최소값:\", min(numbers), \"최대값:\", max(numbers))\n",
    "\n",
    "min_max()"
   ]
  },
  {
   "cell_type": "markdown",
   "metadata": {},
   "source": []
  }
 ],
 "metadata": {
  "kernelspec": {
   "display_name": "Python 3",
   "language": "python",
   "name": "python3"
  },
  "language_info": {
   "codemirror_mode": {
    "name": "ipython",
    "version": 3
   },
   "file_extension": ".py",
   "mimetype": "text/x-python",
   "name": "python",
   "nbconvert_exporter": "python",
   "pygments_lexer": "ipython3",
   "version": "3.13.3"
  }
 },
 "nbformat": 4,
 "nbformat_minor": 2
}
