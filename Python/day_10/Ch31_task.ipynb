{
 "cells": [
  {
   "cell_type": "markdown",
   "metadata": {},
   "source": [
    "문자열 리스트를 받아, 각 문자열의 길이를 출력하는 함수 print_lengths를 작성하세요."
   ]
  },
  {
   "cell_type": "code",
   "execution_count": 3,
   "metadata": {},
   "outputs": [
    {
     "name": "stdout",
     "output_type": "stream",
     "text": [
      "'length'의 길이는 6입니다.\n",
      "'width'의 길이는 5입니다.\n",
      "'height'의 길이는 6입니다.\n",
      "'depth'의 길이는 5입니다.\n"
     ]
    }
   ],
   "source": [
    "def print_lengths(string_list):\n",
    "    for s in string_list:\n",
    "        print(f\"'{s}'의 길이는 {len(s)}입니다.\")\n",
    "\n",
    "my_list = [\"length\", \"width\", \"height\", \"depth\"]\n",
    "print_lengths(my_list)"
   ]
  },
  {
   "cell_type": "markdown",
   "metadata": {},
   "source": []
  }
 ],
 "metadata": {
  "kernelspec": {
   "display_name": "Python 3",
   "language": "python",
   "name": "python3"
  },
  "language_info": {
   "codemirror_mode": {
    "name": "ipython",
    "version": 3
   },
   "file_extension": ".py",
   "mimetype": "text/x-python",
   "name": "python",
   "nbconvert_exporter": "python",
   "pygments_lexer": "ipython3",
   "version": "3.13.3"
  }
 },
 "nbformat": 4,
 "nbformat_minor": 2
}
